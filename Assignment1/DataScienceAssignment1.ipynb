{
 "cells": [
  {
   "cell_type": "markdown",
   "id": "4d457cde",
   "metadata": {},
   "source": [
    "## Text Files For Storing Data"
   ]
  },
  {
   "cell_type": "code",
   "execution_count": 266,
   "id": "19ea3439",
   "metadata": {},
   "outputs": [],
   "source": [
    "import pandas as pd\n",
    "coachesFile=\"Coaches.txt\"\n",
    "SportsFile=\"Sports.txt\"\n",
    "ScheduleFile=\"Schedule.txt\"\n",
    "StudentFile=\"Student.txt\"\n",
    "StudentPasswords=[]"
   ]
  },
  {
   "cell_type": "markdown",
   "id": "49194423",
   "metadata": {},
   "source": [
    "## Function For Adding A New Coach"
   ]
  },
  {
   "cell_type": "code",
   "execution_count": 267,
   "id": "1d5088b0",
   "metadata": {},
   "outputs": [],
   "source": [
    "def addCoach():\n",
    "    with open(coachesFile, 'r') as file:\n",
    "        coachID= len(file.readlines())\n",
    "    Name = input(\"Enter Name: \")\n",
    "    DateJoined = input(\"Enter Date Joined: \")\n",
    "    DateTerminated = input(\"Enter Date Terminated: \")\n",
    "    \n",
    "    while(1):\n",
    "        HourlyRate = float(input(\"Enter Hourly Rate (RM100.00 – RM500.00) : \"))\n",
    "        if HourlyRate>=100 and HourlyRate<=500:\n",
    "            break\n",
    "            \n",
    "    Phone = input(\"Enter Phone: \")\n",
    "    Address = input(\"Enter Address: \")\n",
    "    SportCentreCode = input(\"Enter Sport Centre Code: \")\n",
    "    SportCentreName = input(\"Enter Sport Centre Name: \")\n",
    "    SportCode = input(\"Enter Sport Code: \")\n",
    "    SportName = input(\"Enter Sport Name: \")\n",
    "    while(1):\n",
    "        Rating = int(input(\"Enter Rating (1-5): \"))\n",
    "        if Rating>=1 and Rating<=5:\n",
    "            break\n",
    "    \n",
    "    with open(coachesFile, \"a\") as file:\n",
    "        file.write(f\"{coachID+1},{Name},{DateJoined},{DateTerminated},{HourlyRate},\")\n",
    "        file.write(f\"{Phone},{Address},{SportCentreCode},{SportCentreName},{SportCode},\")\n",
    "        file.write(f\"{SportName},{Rating}\\n\")\n",
    "    print(\"Coach record added successfully.\")"
   ]
  },
  {
   "cell_type": "markdown",
   "id": "24620d97",
   "metadata": {},
   "source": [
    "## Function To Add A New Student"
   ]
  },
  {
   "cell_type": "code",
   "execution_count": 268,
   "id": "f69bace5",
   "metadata": {},
   "outputs": [],
   "source": [
    "def addStudent():\n",
    "    with open(StudentFile, 'r') as file:\n",
    "        student_id= len(file.readlines())\n",
    "     \n",
    "    name = input(\"Enter student name: \")\n",
    "    address = input(\"Enter student address: \")\n",
    "    phone = input(\"Enter student phone number: \")\n",
    "    registered_sports = []  \n",
    "    while True:\n",
    "        sport_id = input(\"Enter sport ID (or 'done' to finish): \")\n",
    "        if sport_id == 'done':\n",
    "            break\n",
    "        registered_sports.append(sport_id)\n",
    "    password=input(\"Enter The Password :\")\n",
    "    StudentPasswords.append(password)\n",
    "    with open(StudentFile, 'a') as file:\n",
    "        file.write(f\"{student_id},{name},{address},{phone},{registered_sports}\\n\")\n",
    "    \n",
    "    print(\"Student added successfully!\")"
   ]
  },
  {
   "cell_type": "markdown",
   "id": "52bde849",
   "metadata": {},
   "source": [
    "## Function For Adding A New Sport"
   ]
  },
  {
   "cell_type": "code",
   "execution_count": 269,
   "id": "7e425383",
   "metadata": {},
   "outputs": [],
   "source": [
    "def addSport():\n",
    "    with open(SportsFile, 'r') as file:\n",
    "        sportCode= len(file.readlines())\n",
    "    \n",
    "    sportName = input(\"Enter Sport Name: \")\n",
    "    sportFee = input(\"Enter Sport Fee: \")\n",
    "    \n",
    "    with open(SportsFile, \"a\") as file:\n",
    "        file.write(f\"{sportCode+1},{sportName},{sportFee}\\n\")\n",
    "    print(\"Sport record added successfully.\")\n",
    "    "
   ]
  },
  {
   "cell_type": "markdown",
   "id": "c8a633b5",
   "metadata": {},
   "source": [
    "## Function For Adding A New Scedule"
   ]
  },
  {
   "cell_type": "code",
   "execution_count": 270,
   "id": "15b2e962",
   "metadata": {},
   "outputs": [],
   "source": [
    "def addSchedule():\n",
    "    sportCode = input(\"Enter Sport Code: \")\n",
    "    sportCentreCode = input(\"Enter Sport Centre Code: \")\n",
    "    schedule = input(\"Enter Schedule (e.g. Mon 9:00-11:00, Wed 14:00-16:00): \")\n",
    "    \n",
    "    with open(ScheduleFile, \"a\") as file:\n",
    "        file.write(f\"{sportCode},{sportCentreCode},{schedule}\\n\")\n",
    "    print(\"Sport schedule added successfully.\")"
   ]
  },
  {
   "cell_type": "markdown",
   "id": "22e7c4c4",
   "metadata": {},
   "source": [
    "## Function To Display All Records of Coach"
   ]
  },
  {
   "cell_type": "code",
   "execution_count": 271,
   "id": "dc7f54c5",
   "metadata": {},
   "outputs": [],
   "source": [
    "def DisplayRecordsOfCoach():\n",
    "    CoulmnName=[\"Coach ID\",\"Name\",\"Date Joined\",\"Date Terminated\",\"Hourly Rate\",\"Phone\",\"Address\",\"Centre Code\",\"Centre Name\",\"Sport Code\",\"Sport Name\",\"Rating\"]\n",
    "    CoachesData = pd.read_csv(coachesFile, sep = \",\", names =CoulmnName)\n",
    "    print(CoachesData)"
   ]
  },
  {
   "cell_type": "markdown",
   "id": "1cf43e8c",
   "metadata": {},
   "source": [
    "## Function To Display Sport Scedules"
   ]
  },
  {
   "cell_type": "code",
   "execution_count": 272,
   "id": "c68e5559",
   "metadata": {},
   "outputs": [],
   "source": [
    "def DisplayScedules():\n",
    "    SecName=[\"Sport Code\",\"Sport Centre Code\",\"Scedule\"]\n",
    "    SceduleData = pd.read_csv(ScheduleFile, sep = \",\", names =SecName)\n",
    "   "
   ]
  },
  {
   "cell_type": "markdown",
   "id": "502cc59c",
   "metadata": {},
   "source": [
    "## Function To Display All Records of Sports"
   ]
  },
  {
   "cell_type": "code",
   "execution_count": 273,
   "id": "5573a5c9",
   "metadata": {},
   "outputs": [],
   "source": [
    "def DisplayRecordsOfSports():\n",
    "    SportsName=[\"SportCode\",\"SportName\",\"SportFee\"]\n",
    "    SportsData = pd.read_csv(SportsFile, sep = \",\", names =SportsName)\n",
    "    print(SportsData)\n",
    "    "
   ]
  },
  {
   "cell_type": "markdown",
   "id": "1c44f8ae",
   "metadata": {},
   "source": [
    "## Function To Display All Records of Students"
   ]
  },
  {
   "cell_type": "code",
   "execution_count": 274,
   "id": "f5892395",
   "metadata": {},
   "outputs": [],
   "source": [
    "def DisplayStudents():\n",
    "    CoulmnName=[\"Student ID\",\"Name\",\"Address\",\"Phone\",\"Sport Code\"]\n",
    "    StudentData = pd.read_csv(StudentFile, sep = \",\", names =CoulmnName)\n",
    "    print(StudentData)"
   ]
  },
  {
   "cell_type": "markdown",
   "id": "e2c9ab33",
   "metadata": {},
   "source": [
    "## Search In Coach By Coach ID"
   ]
  },
  {
   "cell_type": "code",
   "execution_count": 275,
   "id": "75018253",
   "metadata": {},
   "outputs": [],
   "source": [
    "def SearchByCoachId():\n",
    "    Id=int(input(\"Enter The Id :\"))\n",
    "    CoulmnName=[\"Coach ID\",\"Name\",\"Date Joined\",\"Date Terminated\",\"Hourly Rate\",\"Phone\",\"Address\",\"Centre Code\",\"Centre Name\",\"Sport Code\",\"Sport Name\",\"Rating\"]\n",
    "    CoachesData = pd.read_csv(coachesFile, sep = \",\", names =CoulmnName)\n",
    "    print(CoachesData[CoachesData['Coach ID']==Id])\n",
    "    "
   ]
  },
  {
   "cell_type": "markdown",
   "id": "1fd1f3f9",
   "metadata": {},
   "source": [
    "## Search In Coach by overall performance (Rating)"
   ]
  },
  {
   "cell_type": "code",
   "execution_count": 276,
   "id": "5cf2bbbd",
   "metadata": {},
   "outputs": [],
   "source": [
    "def SearchByRating():\n",
    "    Rat=(input(\"Enter The Rating :\"))\n",
    "    CoulmnName=[\"Coach ID\",\"Name\",\"Date Joined\",\"Date Terminated\",\"Hourly Rate\",\"Phone\",\"Address\",\"Centre Code\",\"Centre Name\",\"Sport Code\",\"Sport Name\",\"Rating\"]\n",
    "    CoachesData = pd.read_csv(coachesFile, sep = \",\", names =CoulmnName)\n",
    "    print(CoachesData[CoachesData[\"Rating\"]==Rat])"
   ]
  },
  {
   "cell_type": "markdown",
   "id": "713e6dc8",
   "metadata": {},
   "source": [
    "## Search In Sport by Sport ID"
   ]
  },
  {
   "cell_type": "code",
   "execution_count": 277,
   "id": "05825100",
   "metadata": {},
   "outputs": [],
   "source": [
    "def SearchBySportsId():\n",
    "    code=int(input(\"Enter the sportsCode :\"))\n",
    "    SportsName=[\"SportCode\",\"SportName\",\"SportFee\"]\n",
    "    SportsData = pd.read_csv(SportsFile, sep = \",\", names =SportsName)\n",
    "    print(SportsData[SportsData[\"SportCode\"]==code])"
   ]
  },
  {
   "cell_type": "markdown",
   "id": "8c239eea",
   "metadata": {},
   "source": [
    "## Search Student By Student Id"
   ]
  },
  {
   "cell_type": "code",
   "execution_count": 278,
   "id": "e5952824",
   "metadata": {},
   "outputs": [],
   "source": [
    "def SearchByStudentId():\n",
    "    id=int(input(\"Enter the id :\"))\n",
    "    StudentsName=[\"StudentId\",\"Name\",\"Phone\",\"Address\",\"SportsCode\"]\n",
    "    StudentData = pd.read_csv(StudentFile, sep = \",\", names =StudentsName)\n",
    "    print(StudentData[StudentData[\"StudentId\"]==id])"
   ]
  },
  {
   "cell_type": "markdown",
   "id": "818b6c07",
   "metadata": {},
   "source": [
    "## Sort and display Record of Coaches in ascending order by names. "
   ]
  },
  {
   "cell_type": "code",
   "execution_count": 279,
   "id": "64c6fb07",
   "metadata": {},
   "outputs": [],
   "source": [
    "def SortByCoachNames():\n",
    "    CoulmnName=[\"Coach ID\",\"Name\",\"Date Joined\",\"Date Terminated\",\"Hourly Rate\",\"Phone\",\"Address\",\"Centre Code\",\"Centre Name\",\"Sport Code\",\"Sport Name\",\"Rating\"]\n",
    "    CoachesData = pd.read_csv(coachesFile, sep = \",\", names =CoulmnName)\n",
    "    print(CoachesData.sort_values(by=[\"Name\"]))"
   ]
  },
  {
   "cell_type": "markdown",
   "id": "f054f84b",
   "metadata": {},
   "source": [
    "## Sort and display Record Of Coaches Hourly Pay Rate in ascending order"
   ]
  },
  {
   "cell_type": "code",
   "execution_count": 280,
   "id": "4f57a8a3",
   "metadata": {},
   "outputs": [],
   "source": [
    "def SortByHourlyRate():\n",
    "    CoulmnName=[\"Coach ID\",\"Name\",\"Date Joined\",\"Date Terminated\",\"Hourly Rate\",\"Phone\",\"Address\",\"Centre Code\",\"Centre Name\",\"Sport Code\",\"Sport Name\",\"Rating\"]\n",
    "    CoachesData = pd.read_csv(coachesFile, sep = \",\", names =CoulmnName)\n",
    "    print(CoachesData.sort_values(by=[\"Hourly Rate\"]))"
   ]
  },
  {
   "cell_type": "markdown",
   "id": "4358f36e",
   "metadata": {},
   "source": [
    "## Sort and display Record Of Coaches Overall Performance in ascending order"
   ]
  },
  {
   "cell_type": "code",
   "execution_count": 281,
   "id": "b09d03d1",
   "metadata": {},
   "outputs": [],
   "source": [
    "def SortByRating():\n",
    "    CoulmnName=[\"Coach ID\",\"Name\",\"Date Joined\",\"Date Terminated\",\"Hourly Rate\",\"Phone\",\"Address\",\"Centre Code\",\"Centre Name\",\"Sport Code\",\"Sport Name\",\"Rating\"]\n",
    "    CoachesData = pd.read_csv(coachesFile, sep = \",\", names =CoulmnName)\n",
    "    print(CoachesData.sort_values(by=[\"Rating\"]))"
   ]
  },
  {
   "cell_type": "markdown",
   "id": "d0764280",
   "metadata": {},
   "source": [
    "## Modify Record of Coach "
   ]
  },
  {
   "cell_type": "code",
   "execution_count": 282,
   "id": "fa62c18d",
   "metadata": {},
   "outputs": [],
   "source": [
    "def ModifyCoach():\n",
    "    Id=int(input(\"Enter The Id :\"))\n",
    "    CoulmnName=[\"Coach ID\",\"Name\",\"Date Joined\",\"Date Terminated\",\"Hourly Rate\",\"Phone\",\"Address\",\"Centre Code\",\"Centre Name\",\"Sport Code\",\"Sport Name\",\"Rating\"]\n",
    "    CoachesData = pd.read_csv(coachesFile, sep = \",\", names =CoulmnName)\n",
    "    ind=CoachesData.index[CoachesData['Coach ID']==Id].tolist()\n",
    "    \n",
    "    Name = input(\"Enter Name: \")\n",
    "    DateJoined = input(\"Enter Date Joined: \")\n",
    "    DateTerminated = input(\"Enter Date Terminated: \")\n",
    "    \n",
    "    while(1):\n",
    "        HourlyRate = float(input(\"Enter Hourly Rate (RM100.00 – RM500.00) : \"))\n",
    "        if HourlyRate>=100 and HourlyRate<=500:\n",
    "            break\n",
    "            \n",
    "    Phone = input(\"Enter Phone: \")\n",
    "    Address = input(\"Enter Address: \")\n",
    "    SportCentreCode = input(\"Enter Sport Centre Code: \")\n",
    "    SportCentreName = input(\"Enter Sport Centre Name: \")\n",
    "    SportCode = input(\"Enter Sport Code: \")\n",
    "    SportName = input(\"Enter Sport Name: \")\n",
    "    while(1):\n",
    "        Rating = int(input(\"Enter Rating (1-5): \"))\n",
    "        if Rating>=1 and Rating<=5:\n",
    "            break\n",
    "    CoachesData.loc[ind] = [Id,Name,DateJoined,DateTerminated,HourlyRate,Phone,Address,SportCentreCode,SportCentreName,SportCode,SportName,Rating]\n",
    "    print(CoachesData)\n",
    "    with open(coachesFile, 'w') as file:\n",
    "        CoachesData = CoachesData.to_string(header=False, index=False, sep=\",\")\n",
    "        file.write(CoachesData,header=None)\n",
    "   "
   ]
  },
  {
   "cell_type": "markdown",
   "id": "69810e3a",
   "metadata": {},
   "source": [
    "## Modify Sport"
   ]
  },
  {
   "cell_type": "code",
   "execution_count": 283,
   "id": "ae8dc042",
   "metadata": {},
   "outputs": [],
   "source": [
    "def ModifySports():\n",
    "    code=int(input(\"Enter The Sport Code :\"))\n",
    "    SportsName=[\"SportCode\",\"SportName\",\"SportFee\"]\n",
    "    SportsData = pd.read_csv(SportsFile, sep = \",\", names =SportsName)\n",
    "    ind=SportsData.index[SportsData['SportCode']==Id].tolist()\n",
    "    \n",
    "    sportName = input(\"Enter Sport Name: \")\n",
    "    sportFee = input(\"Enter Sport Fee: \")\n",
    "    SportsData.loc[ind] = [code,sportName,sportFee]\n",
    "    print(SportsData)\n",
    "    with open(SportsFile, 'w') as file:\n",
    "        SportsData = SportsData.to_string(header=False, index=False, sep=\",\")\n",
    "        file.write(SportsData,header=None)"
   ]
  },
  {
   "cell_type": "markdown",
   "id": "0971e223",
   "metadata": {},
   "source": [
    "## Modify Scedule"
   ]
  },
  {
   "cell_type": "code",
   "execution_count": 284,
   "id": "585cc0da",
   "metadata": {},
   "outputs": [],
   "source": [
    "def ModifySecdule():\n",
    "    code=int(input(\"Enter The Sport Code :\"))\n",
    "    SecName=[\"Sport Code\",\"Sport Centre Code\",\"Scedule\"]\n",
    "    SceduleData = pd.read_csv(ScheduleFile, sep = \",\", names =SecName)\n",
    "    ind=SceduleData.index[SceduleData['Sport Code']==Id].tolist()\n",
    "    sportCentreCode = input(\"Enter Sport Centre Code: \")\n",
    "    schedule = input(\"Enter Schedule (e.g. Mon 9:00-11:00, Wed 14:00-16:00): \")\n",
    "    SceduleData.loc[ind] = [code,sportCentreCode,schedule]\n",
    "    print(SceduleData)\n",
    "    with open(ScheduleFile, 'w') as file:\n",
    "        SceduleData = SceduleData.to_string(header=False, index=False, sep=\",\")\n",
    "        file.write(SceduleData,header=None)\n",
    "    "
   ]
  },
  {
   "cell_type": "markdown",
   "id": "de2a9552",
   "metadata": {},
   "source": [
    "##  Login For The Admin"
   ]
  },
  {
   "cell_type": "code",
   "execution_count": 285,
   "id": "b56278dd",
   "metadata": {},
   "outputs": [],
   "source": [
    "AdminUserName=[\"arsal.03\",\"aiza.19\"]\n",
    "AdminPassword=[\"arsal@12\",\"aiza@12\"]\n",
    "def LoginToAdminSystem():\n",
    "    index=-1\n",
    "    tries=0\n",
    "    while(1):\n",
    "        UserName=input(\"Enter The UserName :\")\n",
    "        Password=input(\"Enter The PassWord :\")\n",
    "        \n",
    "        for i in range(0,len(AdminUserName)):\n",
    "            if UserName==AdminUserName[i]:\n",
    "                index=i\n",
    "                \n",
    "        if index!=-1:\n",
    "            if AdminPassword[index]==Password:\n",
    "                print(\"Welcome To Real Champions Sport Acadmy System \\n\")\n",
    "                return True\n",
    "                break\n",
    "                \n",
    "        print(\"User Not Exist,Try Again\")\n",
    "        tries=tries+1\n",
    "        if(tries==3):\n",
    "            break\n",
    "        return False"
   ]
  },
  {
   "cell_type": "markdown",
   "id": "3e633432",
   "metadata": {},
   "source": [
    "## Admin Menu"
   ]
  },
  {
   "cell_type": "code",
   "execution_count": 286,
   "id": "8729656b",
   "metadata": {},
   "outputs": [],
   "source": [
    "def AdminMenu():\n",
    "    print(\"\\n***********Admin Menu************* \\n\")\n",
    "    print(\"1. Add Records\")\n",
    "    print(\"2. Display All Records\")\n",
    "    print(\"3. Search Specific Records\")\n",
    "    print(\"4. Sort and Display Records\")\n",
    "    print(\"5. Modify Records\")\n",
    "    print(\"6. Exit\")\n",
    "    \n",
    "    choice=int(input(\"Enter Your Choice :\"))\n",
    "    \n",
    "    if choice==1:\n",
    "        print(\"\\n ____________________________________ \\n\")\n",
    "        print(\"a. Add Records of Coach \")\n",
    "        print(\"b. Add Records of Sport \")\n",
    "        print(\"c. Add Records of Sport Schedule\")\n",
    "        while(1):\n",
    "            choice=input(\"Enter Your Choice :\")\n",
    "            if choice in ['a','b','c']:\n",
    "                break\n",
    "        if choice=='a':\n",
    "            addCoach()\n",
    "        elif choice=='b':\n",
    "            addSport()\n",
    "        elif choice=='c':\n",
    "            addSchedule()\n",
    "    \n",
    "    elif choice==2:\n",
    "        print(\"\\n ____________________________________ \\n\")\n",
    "        print(\"a. Display All Records of Coach \")\n",
    "        print(\"b. Display All Records of Sport \")\n",
    "        print(\"c. Display All Records of Registered Students\")\n",
    "        while(1):\n",
    "            choice=input(\"Enter Your Choice :\")\n",
    "            if choice in ['a','b','c']:\n",
    "                break\n",
    "        if choice=='a':\n",
    "            DisplayRecordsOfCoach()\n",
    "        elif choice=='b':\n",
    "            DisplayRecordsOfSports()\n",
    "        elif choice=='c':\n",
    "            DisplayStudents()\n",
    "            \n",
    "    elif choice==3:\n",
    "        print(\"\\n ____________________________________ \\n\")\n",
    "        print(\"a. Search Specific Records of Coach by Coach ID  \")\n",
    "        print(\"b. Search Specific Records of Coach by overall performance (Rating) \")\n",
    "        print(\"c. Search Specific Records of Sport by Sport ID\")\n",
    "        print(\"d. Search Specific Records of Student by Student ID\")\n",
    "        while(1):\n",
    "            choice=input(\"Enter Your Choice :\")\n",
    "            if choice in ['a','b','c','d']:\n",
    "                break\n",
    "        if choice=='a':\n",
    "            SearchByCoachId()\n",
    "        elif choice=='b':\n",
    "            SearchByRating()\n",
    "        elif choice=='c':\n",
    "            SearchBySportsId()\n",
    "        elif choice=='d':\n",
    "            SearchByStudentId()\n",
    "     \n",
    "    elif choice==4:\n",
    "        print(\"\\n ____________________________________ \\n\")\n",
    "        print(\"a. Sort and display Record of Coaches in ascending order by names \")\n",
    "        print(\"b. Sort and display Record of Coaches by Hourly Pay Rate in ascending order  \")\n",
    "        print(\"c. Sort and display Record of Coaches by Overall Performance in ascending order\")\n",
    "        while(1):\n",
    "            choice=input(\"Enter Your Choice :\")\n",
    "            if choice in ['a','b','c']:\n",
    "                break\n",
    "        if choice=='a':\n",
    "            SortByCoachNames()\n",
    "        elif choice=='b':\n",
    "            SortByHourlyRate()\n",
    "        elif choice=='c':\n",
    "            SortByRating()\n",
    "    \n",
    "    elif choice==5:\n",
    "        print(\"a. Coach\")\n",
    "        print(\"b\")\n",
    "        print(\"c\")\n",
    "        choice=input(\"Enter the choice :\")\n",
    "        if choice==\"a\":\n",
    "            ModifyCoach()\n",
    "        elif choice==\"b\":\n",
    "            ModifySports()\n",
    "        elif choice==\"c\":\n",
    "            ModifySecdule()\n",
    "        \n",
    "        \n",
    "    "
   ]
  },
  {
   "cell_type": "code",
   "execution_count": 288,
   "id": "33240b30",
   "metadata": {},
   "outputs": [],
   "source": [
    "def StudentMenu(Id):\n",
    "    print(\"\\n***********Student Menu************* \\n\")\n",
    "    print(\"1. View Details Of \")\n",
    "    print(\"2. Modify Self Record \")\n",
    "    print(\"3. Provide feedback and Star to Coach \")\n",
    "    choice=int(input(\"Enter Your Choice :\"))\n",
    "    if choice==1:\n",
    "        print(\"a. View Details Of Coach\")\n",
    "        print(\"b. View Self Record\")\n",
    "        print(\"c. View Registered Sport\")\n",
    "        choice=input(\"Enter Your Choice :\")\n",
    "        if choice==\"a\":\n",
    "            DisplayRecordsOfCoach()\n",
    "        elif choice==\"b\":\n",
    "            CoulmnName=[\"Student ID\",\"Name\",\"Address\",\"Phone\",\"Sport Code\"]\n",
    "            StudentData = pd.read_csv(StudentFile, sep = \",\", names =CoulmnName)\n",
    "            print(StudentData[Id])\n",
    "        elif choice==\"c\":\n",
    "            CoulmnName=[\"Student ID\",\"Name\",\"Address\",\"Phone\",\"Sport Code\"]\n",
    "            StudentData = pd.read_csv(StudentFile, sep = \",\", names =CoulmnName)\n",
    "            print(StudentData[Id][\"Sport Code\"])\n",
    "    \n",
    "     \n",
    "            \n",
    "            \n",
    "    \n"
   ]
  },
  {
   "cell_type": "markdown",
   "id": "cb1be503",
   "metadata": {},
   "source": [
    "## System Menu"
   ]
  },
  {
   "cell_type": "code",
   "execution_count": 289,
   "id": "e0d241c8",
   "metadata": {},
   "outputs": [],
   "source": [
    "def SystemMenu():\n",
    "    print(\"1. Login As Admin\")\n",
    "    print(\"2. Login As Student\")\n",
    "    print(\"3. Login As Unregistered Student\")\n",
    "    choice=int(input(\"Enter Your Choice :\"))\n",
    "    if choice==1:\n",
    "        if LoginToAdminSystem()==True:\n",
    "            AdminMenu()\n",
    "    elif choice==2:\n",
    "        Id=int(input(\"Enter The Id :\"))\n",
    "        passwo=input(\"Enter The Password :\")\n",
    "        if passwo==StudentsPassword[Id]:\n",
    "            StudentMenu(Id)\n",
    "    elif choice==3:\n",
    "        print(\"1. View details of\")\n",
    "        print(\"2. Register YourSelf\")\n",
    "        choice=int(input(\"Enter Your Choice :\"))\n",
    "        if choice==1:\n",
    "            print(\"a. Sport\")\n",
    "            print(\"b. Sport Schedule\")\n",
    "            choice=input(\"Enter Your Choice\")\n",
    "            if choice==\"a\":\n",
    "                DisplayRecordsOfSports()\n",
    "            elif choice==\"b\":\n",
    "                  DisplayScedules()\n",
    "        elif choice==2:\n",
    "            addStudent()\n",
    "        else:\n",
    "            print(\"Loging Out \\n ***********************\")\n",
    "                  \n",
    "            \n",
    "        "
   ]
  },
  {
   "cell_type": "code",
   "execution_count": null,
   "id": "d9d9bf22",
   "metadata": {},
   "outputs": [],
   "source": [
    "SystemMenu()"
   ]
  }
 ],
 "metadata": {
  "kernelspec": {
   "display_name": "Python 3 (ipykernel)",
   "language": "python",
   "name": "python3"
  },
  "language_info": {
   "codemirror_mode": {
    "name": "ipython",
    "version": 3
   },
   "file_extension": ".py",
   "mimetype": "text/x-python",
   "name": "python",
   "nbconvert_exporter": "python",
   "pygments_lexer": "ipython3",
   "version": "3.9.12"
  }
 },
 "nbformat": 4,
 "nbformat_minor": 5
}
